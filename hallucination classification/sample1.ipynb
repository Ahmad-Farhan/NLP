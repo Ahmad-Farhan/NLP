{
 "cells": [
  {
   "cell_type": "markdown",
   "metadata": {},
   "source": [
    "**Assignment 2**\n",
    "----------------------------------\n",
    "**Name** : *Ahmad Farhan* <br>\n",
    "**Roll No.** : *i211366* <br>\n",
    "**Section** : *C* <br>\n",
    "__________________________________\n",
    "\n",
    "1. [Data Preprocessing](#Data-Preprocessing)\n",
    "2. [Model Implementation](#Model-Implementation)\n",
    "3. [Model Evaluation](#Model-Evaluation)\n",
    "4. [Cross-Validation](#Cross-Validation)\n",
    "5. [Error Analysis](#Error-Analysis)\n",
    "6. [Conclusion](#Conclusion)\n"
   ]
  },
  {
   "cell_type": "code",
   "execution_count": 1,
   "metadata": {},
   "outputs": [],
   "source": [
    "import numpy as np\n",
    "import pandas as pd\n",
    "import seaborn as sns\n",
    "import matplotlib.pyplot as plt "
   ]
  },
  {
   "cell_type": "markdown",
   "metadata": {},
   "source": [
    "## Data Preprocessing"
   ]
  },
  {
   "cell_type": "code",
   "execution_count": 2,
   "metadata": {},
   "outputs": [],
   "source": [
    "import math\n",
    "import time\n",
    "from nltk.corpus import stopwords\n",
    "# nltk.download('stopwords')\n",
    "\n",
    "# Convert all text to Lowercase\n",
    "def lowercase(corpus):\n",
    "    for i in range(len(corpus)):\n",
    "        corpus[i] = corpus[i].lower()\n",
    "    return corpus\n",
    "\n",
    "# Remove Punctuation from the corpus\n",
    "punctuation = '''.!\"#$%&()*+,-./:;<=>?@[\\\\]^_{|}~`'''\n",
    "def removepunct(corpus):\n",
    "    for i in range(len(corpus)):\n",
    "        for p in punctuation:\n",
    "            corpus[i] = corpus[i].replace(p, ' ')\n",
    "    return corpus\n",
    "\n",
    "# Remove stopwords from sequences\n",
    "def clearstopwords(sequences):\n",
    "    filtered = []\n",
    "    stopwords_ = stopwords.words('english')\n",
    "    for sequence in sequences:\n",
    "        seq = [word for word in sequence if word not in stopwords_]\n",
    "        filtered.append(\" \".join(seq))\n",
    "    return filtered\n",
    "\n",
    "# Split sequences into individual words (tokenization)\n",
    "def removespaces(corpus): \n",
    "    return [sequence.split() for sequence in corpus]\n",
    "# Flatten a list of lists into a single list of words\n",
    "def flatten(corpus): \n",
    "    return [word for sublist in corpus for word in sublist.split()]\n",
    "# Combine word sequences into sentences\n",
    "def combine(corpus):\n",
    "    return [\" \".join(seq) for seq in corpus]\n",
    "\n",
    "# Main preprocessing pipeline\n",
    "def preprocess(corpus):\n",
    "    corpus = lowercase(corpus)\n",
    "    print(\"Lowercased...\")\n",
    "    corpus = removepunct(corpus)\n",
    "    print(\"Punctuations Removed...\")\n",
    "    corpus = removespaces(corpus)\n",
    "    print(\"Extra Spaces Removed...\")\n",
    "    corpus = clearstopwords(corpus)\n",
    "    print(\"Stopwords Removed...\")\n",
    "    return corpus"
   ]
  },
  {
   "cell_type": "code",
   "execution_count": 3,
   "metadata": {},
   "outputs": [
    {
     "name": "stdout",
     "output_type": "stream",
     "text": [
      "Lowercased...\n",
      "Punctuations Removed...\n",
      "Extra Spaces Removed...\n",
      "Stopwords Removed...\n"
     ]
    },
    {
     "data": {
      "text/html": [
       "<div>\n",
       "<style scoped>\n",
       "    .dataframe tbody tr th:only-of-type {\n",
       "        vertical-align: middle;\n",
       "    }\n",
       "\n",
       "    .dataframe tbody tr th {\n",
       "        vertical-align: top;\n",
       "    }\n",
       "\n",
       "    .dataframe thead th {\n",
       "        text-align: right;\n",
       "    }\n",
       "</style>\n",
       "<table border=\"1\" class=\"dataframe\">\n",
       "  <thead>\n",
       "    <tr style=\"text-align: right;\">\n",
       "      <th></th>\n",
       "      <th>summary</th>\n",
       "      <th>is_factual</th>\n",
       "    </tr>\n",
       "  </thead>\n",
       "  <tbody>\n",
       "    <tr>\n",
       "      <th>0</th>\n",
       "      <td>50 pupils bristol academy sent home school lac...</td>\n",
       "      <td>no</td>\n",
       "    </tr>\n",
       "    <tr>\n",
       "      <th>1</th>\n",
       "      <td>50 pupils bristol academy sent home school lac...</td>\n",
       "      <td>no</td>\n",
       "    </tr>\n",
       "    <tr>\n",
       "      <th>2</th>\n",
       "      <td>50 pupils bristol academy sent home school lac...</td>\n",
       "      <td>no</td>\n",
       "    </tr>\n",
       "    <tr>\n",
       "      <th>3</th>\n",
       "      <td>wife british iranian woman jailed iran called ...</td>\n",
       "      <td>no</td>\n",
       "    </tr>\n",
       "    <tr>\n",
       "      <th>4</th>\n",
       "      <td>wife british iranian woman jailed iran called ...</td>\n",
       "      <td>no</td>\n",
       "    </tr>\n",
       "  </tbody>\n",
       "</table>\n",
       "</div>"
      ],
      "text/plain": [
       "                                             summary is_factual\n",
       "0  50 pupils bristol academy sent home school lac...         no\n",
       "1  50 pupils bristol academy sent home school lac...         no\n",
       "2  50 pupils bristol academy sent home school lac...         no\n",
       "3  wife british iranian woman jailed iran called ...         no\n",
       "4  wife british iranian woman jailed iran called ...         no"
      ]
     },
     "execution_count": 3,
     "metadata": {},
     "output_type": "execute_result"
    }
   ],
   "source": [
    "file_data = pd.read_csv('dataset\\XSum_Hallucination.csv')\n",
    "file_data = file_data[['summary', 'is_factual']]\n",
    "file_data = file_data.dropna()\n",
    "\n",
    "factual = file_data['is_factual'].values\n",
    "corpus = file_data['summary'].values\n",
    "corpus = preprocess(corpus)\n",
    "file_data['summary'] = corpus\n",
    "file_data.head()"
   ]
  },
  {
   "cell_type": "code",
   "execution_count": 15,
   "metadata": {},
   "outputs": [
    {
     "name": "stdout",
     "output_type": "stream",
     "text": [
      "Dataset Statistics\n",
      "----------------------------\n",
      "Total Sequences: 5564\n",
      "Vocabulary Size: 4324\n",
      "Total Words: 61489\n",
      "Classes: ['no' 'yes']\n",
      "\n",
      "Classified as\n",
      "----------------------------\n",
      "no: 4982\n",
      "yes: 582\n"
     ]
    }
   ],
   "source": [
    "# Function to count the occurrences of each n-gram in the corpus\n",
    "def get_vocab(words):\n",
    "    unique_words = set(words) # Get unique n-grams\n",
    "    vocab = {x:i for i,x in enumerate(unique_words)}\n",
    "    return vocab\n",
    "\n",
    "# Function to seperate the data into labels (positive/negative) with their sequences\n",
    "def classify_data(file_data):\n",
    "    class_sequences = {}\n",
    "    for seq, label in file_data:  # Iterate through each sequence and its label\n",
    "        if label not in class_sequences:\n",
    "            class_sequences[label] = [] # Initialize list for each label\n",
    "        class_sequences[label].append(seq)  # Add sequence to its label category\n",
    "    return class_sequences\n",
    "\n",
    "# Calculate total words in the corpus\n",
    "classes = file_data['is_factual'].unique()\n",
    "total_words = sum(len(x.split()) for x in corpus)\n",
    "# Create vocabulary from Corpus\n",
    "vocab = get_vocab(flatten(corpus))\n",
    "# Classify sequences into respective labels\n",
    "cls_seqs = classify_data(file_data.values.tolist())\n",
    "print(\"Dataset Statistics\")\n",
    "print(\"----------------------------\")\n",
    "print(\"Total Sequences:\", len(corpus))\n",
    "print(\"Vocabulary Size:\", len(vocab))\n",
    "print(\"Total Words:\", total_words)\n",
    "print(\"Classes:\", classes)\n",
    "print(\"\\nClassified as\")\n",
    "print(\"----------------------------\")\n",
    "for key, values in cls_seqs.items():\n",
    "    print(f\"{key}: {len(values)}\")"
   ]
  },
  {
   "cell_type": "code",
   "execution_count": 71,
   "metadata": {},
   "outputs": [
    {
     "name": "stdout",
     "output_type": "stream",
     "text": [
      "Train Features: (4451, 4324)\n",
      "Train Labels: (4451,)\n",
      "Test Features: (1113, 4324)\n",
      "Test Labels: (1113,)\n",
      "\n",
      "Train Distribution:\n",
      "0: 3984\n",
      "1: 467\n",
      "Test Distribution:\n",
      "0: 998\n",
      "1: 115\n"
     ]
    }
   ],
   "source": [
    "# Encode class labels as integers for easier processing\n",
    "def labelEncoder(y_values, classes):\n",
    "    encoded = []; encoder = {}\n",
    "    for i, cls in enumerate(classes):\n",
    "        encoder[cls] = i\n",
    "    for y_value in y_values:\n",
    "        encoded.append(encoder[y_value])\n",
    "    return np.array(encoded)\n",
    "\n",
    "# Mean Normalization of Input Data\n",
    "def normalizeInput(data):\n",
    "    mean = np.mean(data, axis=0)\n",
    "    std = np.std(data, axis=0)\n",
    "    std[std == 0] = 1\n",
    "    return (data - mean) / std\n",
    "\n",
    "# Convert Corpus to Bag of Words Counts\n",
    "def countVectorizer(corpus, vocab):\n",
    "    X = np.zeros((len(corpus),len(vocab)), dtype=int)\n",
    "    for doc_index, doc in enumerate(corpus):\n",
    "        words = doc.split()             # Split document into words\n",
    "        for word in words:\n",
    "            col_index = vocab[word]\n",
    "            X[doc_index, col_index] += 1\n",
    "    return X\n",
    "\n",
    "# Display data distribution by class\n",
    "def show_data_distribution(data, cls):\n",
    "    dataset = [(data[i], cls[i]) for i in range(cls.shape[0])]\n",
    "    dataset = classify_data(dataset)\n",
    "    for key, values in dataset.items():\n",
    "        print(f\"{key}: {len(values)}\")\n",
    "\n",
    "# Function to split classified data into train and test sets\n",
    "def train_test_split(X, y, seqs, test_size=0.2, random_state=None):\n",
    "    if random_state is not None: np.random.seed(random_state)\n",
    "    indices = np.random.permutation(len(X))  # Shuffle indices\n",
    "    split_index = int(len(X) * (1 - test_size))  # Determine split point\n",
    "\n",
    "    # Split into training and testing sets\n",
    "    train_indices = indices[:split_index]\n",
    "    test_indices = indices[split_index:]\n",
    "    return  X[train_indices], y[train_indices], \\\n",
    "    X[test_indices], y[test_indices], seqs[test_indices]\n",
    "\n",
    "# Extract features and encode labels\n",
    "sequences = np.array(corpus)\n",
    "features = countVectorizer(corpus, vocab)\n",
    "labels = labelEncoder(factual, classes)\n",
    "np.random.seed(0)\n",
    "\n",
    "# Apply Train-Test Split on the data and normalize features\n",
    "X_train, y_train, X_test, y_test, seqs = train_test_split(features, labels, sequences, test_size=0.2)\n",
    "X_train = normalizeInput(X_train)\n",
    "X_test = normalizeInput(X_test)\n",
    "\n",
    "print(\"Train Features:\", X_train.shape)\n",
    "print(\"Train Labels:\", y_train.shape)\n",
    "print(\"Test Features:\", X_test.shape)\n",
    "print(\"Test Labels:\", y_test.shape)\n",
    "\n",
    "print(\"\\nTrain Distribution:\")\n",
    "show_data_distribution(X_train, y_train)\n",
    "\n",
    "print(\"Test Distribution:\")\n",
    "show_data_distribution(X_test, y_test)"
   ]
  },
  {
   "cell_type": "markdown",
   "metadata": {},
   "source": [
    "## Model Implementation"
   ]
  },
  {
   "cell_type": "code",
   "execution_count": 67,
   "metadata": {},
   "outputs": [],
   "source": [
    "class LogisticRegression():\n",
    "    def __init__(self, learning_rate=0.01, iterations=100, l2penalty=0.01):\n",
    "        self.learning_rate = learning_rate\n",
    "        self.iterations = iterations\n",
    "        self.l2penalty = l2penalty\n",
    "        self.weights = None\n",
    "        self.bias = None\n",
    "\n",
    "    def sigmoid(self, z):\n",
    "        \"\"\"Compute the sigmoid function with overflow protection.\"\"\"\n",
    "        # Use numpy's where to avoid overflow\n",
    "        return np.where(z >= 0, 1 / (1 + np.exp(-z)), np.exp(z) / (1 + np.exp(z)))\n",
    "    \n",
    "    def fit(self, X, y, Xt=None, yt=None, verbose=False):\n",
    "        \"\"\"Fit the model to the training data.\"\"\"\n",
    "        history = {'train':{}, 'val':{}}\n",
    "\n",
    "        num_samples, num_feats = X.shape\n",
    "        self.weights = np.random.randn(num_feats)*0.01\n",
    "        self.bias = 0.01; \n",
    "\n",
    "        avg = 1/num_samples\n",
    "        for i in range(self.iterations):\n",
    "            linear_model = np.dot(X, self.weights) + self.bias  # Calculate Linear function\n",
    "            y_pred = self.sigmoid(linear_model)         # Apply sigmoid to get probability\n",
    "\n",
    "            reg = self.l2penalty * self.weights         # L2 Regularization term\n",
    "            dw = avg * np.dot(X.T, (y_pred - y)) + reg  # Calculate partial derivates wrt w\n",
    "            db = avg * np.sum(y_pred - y)               # Calculate partial derivates wrt b\n",
    "\n",
    "            # Update weights and bias\n",
    "            self.weights -= self.learning_rate * dw\n",
    "            self.bias -= self.learning_rate * db\n",
    "\n",
    "            # Optionally, print progress and calculate accuracy at certain iterations\n",
    "            if verbose and i % (self.iterations/20) == 0:\n",
    "                y_pred = self.predict(X)\n",
    "                train_acc = self.evaluate(y, y_pred)\n",
    "                yt_pred = self.predict(Xt)\n",
    "                test_acc = self.evaluate(yt, yt_pred)\n",
    "                print(f\"Accuracy after iteration {i}:  {train_acc:.5f}  -  {test_acc:.5f}\")\n",
    "                history['train'][i] = train_acc; history['val'][i] = test_acc\n",
    "        return history       # Return history of accuracies dictionary\n",
    "\n",
    "    def predict(self, X):\n",
    "        \"\"\"Predict class labels for input data.\"\"\"\n",
    "        linear_model = np.dot(X, self.weights) + self.bias  # Compute linear model\n",
    "        y_pred = self.sigmoid(linear_model)         # Apply sigmoid to get prediction\n",
    "        class_labels = [1 if i > 0.5 else 0 for i in y_pred]    # Classify \n",
    "        return np.array(class_labels)\n",
    "    \n",
    "    def evaluate(self, y_true, y_pred):\n",
    "        \"\"\"Calculate accuracy of the model.\"\"\"\n",
    "        return np.mean(y_true == y_pred)"
   ]
  },
  {
   "cell_type": "code",
   "execution_count": 68,
   "metadata": {},
   "outputs": [
    {
     "name": "stdout",
     "output_type": "stream",
     "text": [
      "Accuracy after iteration 0:  0.50955  -  0.50494\n",
      "Accuracy after iteration 50:  0.61357  -  0.59209\n",
      "Accuracy after iteration 100:  0.74433  -  0.71339\n",
      "Accuracy after iteration 150:  0.83644  -  0.80054\n",
      "Accuracy after iteration 200:  0.89418  -  0.84636\n",
      "Accuracy after iteration 250:  0.92384  -  0.88410\n",
      "Accuracy after iteration 300:  0.93642  -  0.89218\n",
      "Accuracy after iteration 350:  0.94563  -  0.90386\n",
      "Accuracy after iteration 400:  0.95327  -  0.91195\n",
      "Accuracy after iteration 450:  0.95619  -  0.91554\n",
      "Accuracy after iteration 500:  0.96001  -  0.92093\n",
      "Accuracy after iteration 550:  0.96338  -  0.92543\n",
      "Accuracy after iteration 600:  0.96608  -  0.92812\n",
      "Accuracy after iteration 650:  0.96810  -  0.92722\n",
      "Accuracy after iteration 700:  0.96967  -  0.92812\n",
      "Accuracy after iteration 750:  0.97034  -  0.92902\n",
      "Accuracy after iteration 800:  0.97057  -  0.93172\n",
      "Accuracy after iteration 850:  0.97057  -  0.93261\n",
      "Accuracy after iteration 900:  0.97057  -  0.93441\n",
      "Accuracy after iteration 950:  0.97124  -  0.93441\n"
     ]
    },
    {
     "data": {
      "image/png": "[encoded data removed]",
      "text/plain": [
       "<Figure size 640x480 with 1 Axes>"
      ]
     },
     "metadata": {},
     "output_type": "display_data"
    }
   ],
   "source": [
    "# Initialize and train the model\n",
    "lr_model = LogisticRegression(learning_rate=0.005, iterations=1000, l2penalty=0.05)\n",
    "history = lr_model.fit(X_train, y_train, X_test, y_test, verbose=True)\n",
    "\n",
    "# Plot accuracy over iterations\n",
    "for key, values in history.items():\n",
    "    iterations = list(values.keys())\n",
    "    accuracies = list(values.values())\n",
    "    plt.plot(iterations, accuracies, label=f'{key.capitalize()} Accuracy')\n",
    "    \n",
    "plt.title('Training and Validation Accuracy over Iterations')\n",
    "plt.xlabel('Iterations')\n",
    "plt.ylabel('Accuracy')\n",
    "plt.xticks(list(history['train'].keys())[::2])  # Show only the saved iterations on x-axis\n",
    "plt.legend()\n",
    "plt.show()"
   ]
  },
  {
   "cell_type": "markdown",
   "metadata": {},
   "source": [
    "## Model Evaluation"
   ]
  },
  {
   "cell_type": "code",
   "execution_count": 69,
   "metadata": {},
   "outputs": [
    {
     "name": "stdout",
     "output_type": "stream",
     "text": [
      "True Distribution: {'no': 998, 'yes': 115}\n",
      "Pred Distribution: {'no': 1022, 'yes': 91}\n",
      "True Positives: 974\n",
      "True Negatives: 67\n",
      "False Positives: 48\n",
      "False Negatives: 24\n",
      "\n",
      "Recall: 0.9760\n",
      "AUC-ROC: 0.4174\n",
      "Specificity: 0.5826\n",
      "Precision: 0.9530\n",
      "F1 score: 0.9644\n",
      "Accuracy: 0.9353\n"
     ]
    },
    {
     "data": {
      "image/png": "[encoded data removed]",
      "text/plain": [
       "<Figure size 600x400 with 1 Axes>"
      ]
     },
     "metadata": {},
     "output_type": "display_data"
    }
   ],
   "source": [
    "# Build confusion matrix from true and predicted labels\n",
    "def confusion_matrix(y_true, y_pred, num_classes):\n",
    "    matrix = [[0 for _ in range(num_classes)] for _ in range(num_classes)]\n",
    "    for y_true, y_pred in zip(y_true, y_pred):\n",
    "        matrix[y_true][y_pred] += 1\n",
    "    return matrix\n",
    "\n",
    "# Calculate class distribution based on confusion matrix\n",
    "def distribution(matrix, classes, actual=True):\n",
    "    distribution = {}; counts = [0]*len(classes)\n",
    "    for i in range(len(classes)):\n",
    "        if actual == True: counts[i] = sum(matrix[i])\n",
    "        else: counts[i] = sum(matrix[j][i] for j in range(len(classes)))\n",
    "    for i, cls in enumerate(classes):\n",
    "        distribution[cls] = counts[i]\n",
    "    return distribution\n",
    "\n",
    "# Print statistics based on the confusion matrix\n",
    "def describe_stats(matrix):\n",
    "    (Tp, Fn), (Fp, Tn) = matrix\n",
    "    print(\"True Positives:\", Tp)\n",
    "    print(\"True Negatives:\", Tn)\n",
    "    print(\"False Positives:\", Fp)\n",
    "    print(\"False Negatives:\", Fn)\n",
    "\n",
    "    recall = Tp/(Tp+Fn)\n",
    "    precision = Tp/(Tp+Fp)\n",
    "    f1 = 2*(precision*recall)/(precision+recall)\n",
    "    print(f\"\\nRecall: {Tp/(Tp+Fn):.4f}\")\n",
    "    print(f\"AUC-ROC: {Fp/(Fp+Tn):.4f}\")\n",
    "    print(f\"Specificity: {Tn/(Tn+Fp):.4f}\")\n",
    "    print(f\"Precision: {Tp/(Tp+Fp):.4f}\")\n",
    "    print(f\"F1 score: {f1:.4f}\")\n",
    "    print(f\"Accuracy: {(Tp+Tn)/(Tp+Tn+Fp+Fn):.4f}\")\n",
    "\n",
    "y_true = y_test\n",
    "y_pred = lr_model.predict(X_test)\n",
    "matrix = confusion_matrix(y_true, y_pred, len(classes))\n",
    "print(\"True Distribution:\", distribution(matrix, classes))\n",
    "print(\"Pred Distribution:\", distribution(matrix, classes, False))\n",
    "describe_stats(matrix)\n",
    "\n",
    "# Plot confusion matrix as a heatmap\n",
    "plt.figure(figsize=(6,4))\n",
    "sns.heatmap(matrix, annot=True, fmt='d', cmap='Blues', cbar=False)\n",
    "plt.xlabel('Predicted')\n",
    "plt.ylabel('True')\n",
    "plt.title('Confusion Matrix')\n",
    "plt.show()"
   ]
  },
  {
   "cell_type": "markdown",
   "metadata": {},
   "source": [
    "## Cross-Validation"
   ]
  },
  {
   "cell_type": "code",
   "execution_count": 14,
   "metadata": {},
   "outputs": [
    {
     "name": "stdout",
     "output_type": "stream",
     "text": [
      "Accuracy for fold 1: 0.97147 - 0.92633\n",
      "Accuracy for fold 2: 0.97034 - 0.91914\n",
      "Accuracy for fold 3: 0.97102 - 0.92363\n",
      "Accuracy for fold 4: 0.96787 - 0.92093\n",
      "Accuracy for fold 5: 0.96923 - 0.93255\n",
      "Average accuracy: 0.924516182202486\n",
      "Standard Deviation: 0.004699443037104182\n"
     ]
    }
   ],
   "source": [
    "# Split data into k folds for cross-validation\n",
    "def kfold_split(x, k=5):\n",
    "    remainder = len(X) % k\n",
    "    fold_size = len(x) // k\n",
    "    indices = np.arange(len(x))\n",
    "    np.random.shuffle(indices)\n",
    "    folds = [indices[i*fold_size: (i+1)*fold_size] for i in range(k)]\n",
    "\n",
    "    # Distribute any remaining indices to the first few folds\n",
    "    if remainder > 0:\n",
    "        for i in range(remainder):\n",
    "            folds[i] = np.append(folds[i], indices[-(i+1)])\n",
    "    return folds \n",
    "\n",
    "# Perform k-fold cross-validation\n",
    "def kfold_cross_validation(X, y, model, k=5):\n",
    "    accuracies = []\n",
    "    folds = kfold_split(X, k)\n",
    "    for i, test_indices in enumerate(folds):\n",
    "        train_indices = np.hstack([folds[j] for j in range(k) if j != i])\n",
    "        X_train, X_test = X[train_indices], X[test_indices]\n",
    "        y_train, y_test = y[train_indices], y[test_indices]\n",
    "\n",
    "        # Normalize input and Train the model\n",
    "        X_train = normalizeInput(X_train)\n",
    "        X_test = normalizeInput(X_test)\n",
    "        model.fit(X_train, y_train)\n",
    "\n",
    "        # Predict and Evaluate\n",
    "        y_pred = model.predict(X_test)\n",
    "        y_predt = model.predict(X_train)\n",
    "        test_acc = model.evaluate(y_test, y_pred)\n",
    "        train_acc = model.evaluate(y_train, y_predt)\n",
    "\n",
    "        accuracies.append(test_acc)\n",
    "        print(f'Accuracy for fold {i+1}: {train_acc:.5f} - {test_acc:.5f}')\n",
    "    return accuracies\n",
    "\n",
    "X = features; y = labels; k = 5\n",
    "model = LogisticRegression(learning_rate=0.05, iterations=1500, l2penalty=0.1)\n",
    "accuracies = kfold_cross_validation(X, y, model, k)\n",
    "print(f'Average accuracy: {np.mean(accuracies)}')\n",
    "print(f'Standard Deviation: {np.std(accuracies)}')"
   ]
  },
  {
   "cell_type": "code",
   "execution_count": 24,
   "metadata": {},
   "outputs": [
    {
     "data": {
      "image/png": "[encoded data removed]",
      "text/plain": [
       "<Figure size 640x480 with 1 Axes>"
      ]
     },
     "metadata": {},
     "output_type": "display_data"
    }
   ],
   "source": [
    "# Plot accuracies over each kfold\n",
    "folds = list(range(k))\n",
    "plt.plot(folds, accuracies, label=f'Accuracy')\n",
    "plt.title('Test Accuracy over K-Folds')\n",
    "plt.xlabel('K-Number')\n",
    "plt.ylabel('Accuracy')\n",
    "plt.xticks(folds)\n",
    "plt.grid()\n",
    "plt.show()"
   ]
  },
  {
   "cell_type": "markdown",
   "metadata": {},
   "source": [
    "## Error Analysis"
   ]
  },
  {
   "cell_type": "code",
   "execution_count": 94,
   "metadata": {},
   "outputs": [
    {
     "name": "stdout",
     "output_type": "stream",
     "text": [
      "Label: no,  Sequence: britain's storey storey retained olympic 100m title victory track cycling world championships london\n",
      "Label: yes,  Sequence: close ftse 100 ended day higher shares airlines ftse 100 higher\n",
      "Label: yes,  Sequence: tom ince scored goal game give derby county first win season beat ipswich town\n",
      "Label: yes,  Sequence: dumfries teacher downloaded hundreds indecent images children struck\n",
      "Label: yes,  Sequence: older people care given quality care older people care watchdog said\n",
      "Label: no,  Sequence: woman critical condition hospital hit car aberdeenshire\n",
      "Label: no,  Sequence: motorcyclist arrested suspicion causing death dangerous driving crash lorry lorry\n",
      "Label: yes,  Sequence: inverness caledonian thistle ended run three straight scottish premiership defeats win hamilton academical\n",
      "Label: yes,  Sequence: year's london fringe festival taking place london\n",
      "Label: yes,  Sequence: wales coach warren gatland lot frustration''in world cup says head coach warren gatland\n"
     ]
    }
   ],
   "source": [
    "# Show n missclassified examples with predicted labels\n",
    "def show_misclassified(y_test, y_pred, seqs, classes):\n",
    "    indices = np.where(y_test != y_pred)[0]\n",
    "    for index in indices[:10]:\n",
    "        sequence, label = seqs[index], y_test[index]\n",
    "        print(f'Label: {classes[label]},  Sequence: {sequence}')\n",
    "\n",
    "show_misclassified(y_test, y_pred, seqs, classes)"
   ]
  },
  {
   "cell_type": "markdown",
   "metadata": {},
   "source": [
    "#### Reasons for Misclassification\n",
    "1. **Inherent Bias in Training Data:** The training data is significantly imbalanced. So, model ends up biased towards the majority class. This leads to a higher rate of false negatives or positives.\n",
    "\n",
    "2. **Ambiguity in Content:** Many sequences with the label \"yes\" discuss events that could be perceived as newsworthy (e.g., sports results, political statements). In contrast, some \"no\" sequences also contain words which lead the model to misclassifying them.\n",
    "\n",
    "3. **Lack of Contextual Understanding:** Logistic regression struggles with complex relationships in the data. Sequences that reference ongoing societal issues (e.g., healthcare, crime) might be misclassified due to their sensitive nature.\n",
    "\n",
    "4. **Phrase Complexity:** Phrases with mixed signals or unclear phrases (e.g., \"older people care... watchdog said\") confuse the model due to limitations of Bag of Words/Inverse Document Frequency based features\n",
    "\n",
    "#### Suggested Improvements:\n",
    "1. **Feature Engineering:** Enhance the feature set to include more contextual information, such as word embeddings (e.g., Word2Vec, GloVe, BERT) to capture semantic meaning better.\n",
    "\n",
    "2. **Data Augmentation:** Increase the size of the training dataset through augmentation techniques (e.g., paraphrasing, synonym replacement) to improve the model's robustness and reduce bias. Synthetic data can be used to remove class imbalance\n",
    "\n",
    "3. **Advanced Models:** Try more sophisticated models like Random Forests or deep learning (e.g., BERT) for better context capture."
   ]
  },
  {
   "cell_type": "markdown",
   "metadata": {},
   "source": [
    "## Conclusion"
   ]
  },
  {
   "cell_type": "markdown",
   "metadata": {},
   "source": [
    "In this assignment, a logistic regression model was implemented from scratch for hallucination detection using the XSum dataset. The task required classifying summaries as either factual or hallucinated based on the given labels. After preprocessing and hyperparameter tuning, the model was evaluated with accuracy, precision, recall, and F1 score. K-fold cross-validation confirmed the model's robustness. Error analysis highlighted misclassifications due to ambiguity and lack of context. Suggestions for improvement included using advanced models like BERT to better capture text semantics."
   ]
  }
 ],
 "metadata": {
  "kernelspec": {
   "display_name": "base",
   "language": "python",
   "name": "python3"
  },
  "language_info": {
   "codemirror_mode": {
    "name": "ipython",
    "version": 3
   },
   "file_extension": ".py",
   "mimetype": "text/x-python",
   "name": "python",
   "nbconvert_exporter": "python",
   "pygments_lexer": "ipython3",
   "version": "3.11.4"
  }
 },
 "nbformat": 4,
 "nbformat_minor": 2
}
