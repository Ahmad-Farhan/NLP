{
  "cells": [
    {
      "cell_type": "code",
      "execution_count": 8,
      "metadata": {
        "id": "t4jXeG4Ui-DY"
      },
      "outputs": [],
      "source": [
        "import torch\n",
        "import pandas as pd\n",
        "import tensorflow as tf\n",
        "import tensorflow.keras as keras\n",
        "import matplotlib.pyplot as plt\n",
        "\n",
        "from sklearn.preprocessing import LabelEncoder\n",
        "from sklearn.model_selection import train_test_split\n",
        "\n",
        "from tensorflow.data import Dataset\n",
        "from torch.utils.data import TensorDataset, DataLoader"
      ]
    },
    {
      "cell_type": "markdown",
      "metadata": {
        "id": "r-REMstbi-Da"
      },
      "source": [
        "## Data Handling"
      ]
    },
    {
      "cell_type": "code",
      "execution_count": null,
      "metadata": {
        "id": "L_QKOqpKi-Db",
        "outputId": "ef121e96-ca87-45e9-83b9-b1146cb94d0e"
      },
      "outputs": [
        {
          "name": "stdout",
          "output_type": "stream",
          "text": [
            "Label Classes ['Positive' 'Neutral' 'Negative' 'Irrelevant']\n"
          ]
        },
        {
          "data": {
            "text/html": [
              "<div>\n",
              "<style scoped>\n",
              "    .dataframe tbody tr th:only-of-type {\n",
              "        vertical-align: middle;\n",
              "    }\n",
              "\n",
              "    .dataframe tbody tr th {\n",
              "        vertical-align: top;\n",
              "    }\n",
              "\n",
              "    .dataframe thead th {\n",
              "        text-align: right;\n",
              "    }\n",
              "</style>\n",
              "<table border=\"1\" class=\"dataframe\">\n",
              "  <thead>\n",
              "    <tr style=\"text-align: right;\">\n",
              "      <th></th>\n",
              "      <th>tweet_id</th>\n",
              "      <th>entity</th>\n",
              "      <th>sentiment</th>\n",
              "      <th>review</th>\n",
              "    </tr>\n",
              "  </thead>\n",
              "  <tbody>\n",
              "    <tr>\n",
              "      <th>0</th>\n",
              "      <td>2401</td>\n",
              "      <td>Borderlands</td>\n",
              "      <td>Positive</td>\n",
              "      <td>I am coming to the borders and I will kill you...</td>\n",
              "    </tr>\n",
              "    <tr>\n",
              "      <th>1</th>\n",
              "      <td>2401</td>\n",
              "      <td>Borderlands</td>\n",
              "      <td>Positive</td>\n",
              "      <td>im getting on borderlands and i will kill you ...</td>\n",
              "    </tr>\n",
              "    <tr>\n",
              "      <th>2</th>\n",
              "      <td>2401</td>\n",
              "      <td>Borderlands</td>\n",
              "      <td>Positive</td>\n",
              "      <td>im coming on borderlands and i will murder you...</td>\n",
              "    </tr>\n",
              "    <tr>\n",
              "      <th>3</th>\n",
              "      <td>2401</td>\n",
              "      <td>Borderlands</td>\n",
              "      <td>Positive</td>\n",
              "      <td>im getting on borderlands 2 and i will murder ...</td>\n",
              "    </tr>\n",
              "    <tr>\n",
              "      <th>4</th>\n",
              "      <td>2401</td>\n",
              "      <td>Borderlands</td>\n",
              "      <td>Positive</td>\n",
              "      <td>im getting into borderlands and i can murder y...</td>\n",
              "    </tr>\n",
              "  </tbody>\n",
              "</table>\n",
              "</div>"
            ],
            "text/plain": [
              "   tweet_id       entity sentiment  \\\n",
              "0      2401  Borderlands  Positive   \n",
              "1      2401  Borderlands  Positive   \n",
              "2      2401  Borderlands  Positive   \n",
              "3      2401  Borderlands  Positive   \n",
              "4      2401  Borderlands  Positive   \n",
              "\n",
              "                                              review  \n",
              "0  I am coming to the borders and I will kill you...  \n",
              "1  im getting on borderlands and i will kill you ...  \n",
              "2  im coming on borderlands and i will murder you...  \n",
              "3  im getting on borderlands 2 and i will murder ...  \n",
              "4  im getting into borderlands and i can murder y...  "
            ]
          },
          "execution_count": 2,
          "metadata": {},
          "output_type": "execute_result"
        }
      ],
      "source": [
        "data = pd.read_csv('dataset/twitter_training.csv')\n",
        "data.columns = ['tweet_id', 'entity', 'sentiment', 'review']\n",
        "print(\"Label Classes\", data.sentiment.unique())\n",
        "data.head()"
      ]
    },
    {
      "cell_type": "code",
      "execution_count": null,
      "metadata": {
        "id": "gdR7Mrt9i-Dc",
        "outputId": "35c4fd53-1665-45bb-b77b-75006a66fc18"
      },
      "outputs": [
        {
          "name": "stdout",
          "output_type": "stream",
          "text": [
            "Encoder Classes ['Irrelevant' 'Negative' 'Neutral' 'Positive']\n"
          ]
        },
        {
          "data": {
            "text/html": [
              "<div>\n",
              "<style scoped>\n",
              "    .dataframe tbody tr th:only-of-type {\n",
              "        vertical-align: middle;\n",
              "    }\n",
              "\n",
              "    .dataframe tbody tr th {\n",
              "        vertical-align: top;\n",
              "    }\n",
              "\n",
              "    .dataframe thead th {\n",
              "        text-align: right;\n",
              "    }\n",
              "</style>\n",
              "<table border=\"1\" class=\"dataframe\">\n",
              "  <thead>\n",
              "    <tr style=\"text-align: right;\">\n",
              "      <th></th>\n",
              "      <th>sentiment</th>\n",
              "      <th>review</th>\n",
              "      <th>sentiment_label</th>\n",
              "    </tr>\n",
              "  </thead>\n",
              "  <tbody>\n",
              "    <tr>\n",
              "      <th>0</th>\n",
              "      <td>Positive</td>\n",
              "      <td>I am coming to the borders and I will kill you...</td>\n",
              "      <td>3</td>\n",
              "    </tr>\n",
              "    <tr>\n",
              "      <th>1</th>\n",
              "      <td>Positive</td>\n",
              "      <td>im getting on borderlands and i will kill you ...</td>\n",
              "      <td>3</td>\n",
              "    </tr>\n",
              "    <tr>\n",
              "      <th>2</th>\n",
              "      <td>Positive</td>\n",
              "      <td>im coming on borderlands and i will murder you...</td>\n",
              "      <td>3</td>\n",
              "    </tr>\n",
              "    <tr>\n",
              "      <th>3</th>\n",
              "      <td>Positive</td>\n",
              "      <td>im getting on borderlands 2 and i will murder ...</td>\n",
              "      <td>3</td>\n",
              "    </tr>\n",
              "    <tr>\n",
              "      <th>4</th>\n",
              "      <td>Positive</td>\n",
              "      <td>im getting into borderlands and i can murder y...</td>\n",
              "      <td>3</td>\n",
              "    </tr>\n",
              "  </tbody>\n",
              "</table>\n",
              "</div>"
            ],
            "text/plain": [
              "  sentiment                                             review  \\\n",
              "0  Positive  I am coming to the borders and I will kill you...   \n",
              "1  Positive  im getting on borderlands and i will kill you ...   \n",
              "2  Positive  im coming on borderlands and i will murder you...   \n",
              "3  Positive  im getting on borderlands 2 and i will murder ...   \n",
              "4  Positive  im getting into borderlands and i can murder y...   \n",
              "\n",
              "   sentiment_label  \n",
              "0                3  \n",
              "1                3  \n",
              "2                3  \n",
              "3                3  \n",
              "4                3  "
            ]
          },
          "execution_count": 3,
          "metadata": {},
          "output_type": "execute_result"
        }
      ],
      "source": [
        "encoder = LabelEncoder()\n",
        "data.drop(['tweet_id', 'entity'], inplace=True, axis=1)\n",
        "data['sentiment_label'] = encoder.fit_transform(data['sentiment'])\n",
        "print(\"Encoder Classes\", encoder.classes_)\n",
        "data.head()"
      ]
    },
    {
      "cell_type": "code",
      "execution_count": null,
      "metadata": {
        "id": "ch45Cv-vi-Dd",
        "outputId": "20e431d7-ad9e-41e5-a732-0757c4e5827c"
      },
      "outputs": [
        {
          "name": "stdout",
          "output_type": "stream",
          "text": [
            "NA Summary: \n",
            "------------------------\n",
            "sentiment            0\n",
            "review             686\n",
            "sentiment_label      0\n",
            "dtype: int64\n",
            "\n",
            "NA Summary: \n",
            "------------------------\n",
            "sentiment          0\n",
            "review             0\n",
            "sentiment_label    0\n",
            "dtype: int64\n"
          ]
        }
      ],
      "source": [
        "print(\"NA Summary: \\n------------------------\\n\" + str(data.isna().sum()))\n",
        "data.dropna(inplace=True)\n",
        "print(\"\\nNA Summary: \\n------------------------\\n\" + str(data.isna().sum()))"
      ]
    },
    {
      "cell_type": "code",
      "execution_count": null,
      "metadata": {
        "id": "AI047zjti-Dd",
        "outputId": "143e331f-1664-488c-b06b-ecd2dfb23779"
      },
      "outputs": [
        {
          "name": "stdout",
          "output_type": "stream",
          "text": [
            "sentiment\n",
            "Negative      22358\n",
            "Positive      20654\n",
            "Neutral       18108\n",
            "Irrelevant    12875\n",
            "Name: count, dtype: int64\n"
          ]
        },
        {
          "data": {
            "image/png": "[encoded data removed]",
            "text/plain": [
              "<Figure size 640x480 with 1 Axes>"
            ]
          },
          "metadata": {},
          "output_type": "display_data"
        }
      ],
      "source": [
        "val_counts = data['sentiment'].value_counts()\n",
        "print(val_counts)\n",
        "\n",
        "ax = val_counts.plot(kind='bar')\n",
        "ax.set_xticklabels(['Negative', 'Positive' ,'Neutral', 'Irrelevent'], rotation=0)\n",
        "plt.xlabel('Counts'); plt.ylabel('Classes'), plt.title('Label Distribution')\n",
        "plt.show()"
      ]
    },
    {
      "cell_type": "code",
      "execution_count": null,
      "metadata": {
        "id": "0g5ldS1di-Dd",
        "outputId": "66039714-a425-468f-cd23-e6f01d18dc59"
      },
      "outputs": [
        {
          "name": "stdout",
          "output_type": "stream",
          "text": [
            "Original: Im getting on Borderlands and i will murder you\n",
            "Processed: getting borderland murder\n"
          ]
        }
      ],
      "source": [
        "import nltk\n",
        "from nltk.stem import WordNetLemmatizer\n",
        "from nltk.corpus import stopwords\n",
        "\n",
        "# nltk.download('punkt')\n",
        "# nltk.download('wordnet')\n",
        "# nltk.download('stopwords')\n",
        "\n",
        "wnl = WordNetLemmatizer()\n",
        "stop_words = stopwords.words('english')\n",
        "\n",
        "def preprocess(text):\n",
        "    words = nltk.word_tokenize(text.lower())\n",
        "    filtered_words = [wnl.lemmatize(word) for word in words if word not in stop_words and len(word) >= 3]\n",
        "    return \" \".join(filtered_words)\n",
        "\n",
        "example_text = 'Im getting on Borderlands and i will murder you'\n",
        "print(f\"Original: {example_text}\\nProcessed: {preprocess(example_text)}\")"
      ]
    },
    {
      "cell_type": "code",
      "execution_count": null,
      "metadata": {
        "id": "dqvmuxlZi-De",
        "outputId": "657a7d6f-14fe-424b-ce4a-e7ce24592a8f"
      },
      "outputs": [
        {
          "name": "stdout",
          "output_type": "stream",
          "text": [
            "review\n",
            "<class 'str'>    73995\n",
            "Name: count, dtype: int64\n"
          ]
        },
        {
          "data": {
            "text/html": [
              "<div>\n",
              "<style scoped>\n",
              "    .dataframe tbody tr th:only-of-type {\n",
              "        vertical-align: middle;\n",
              "    }\n",
              "\n",
              "    .dataframe tbody tr th {\n",
              "        vertical-align: top;\n",
              "    }\n",
              "\n",
              "    .dataframe thead th {\n",
              "        text-align: right;\n",
              "    }\n",
              "</style>\n",
              "<table border=\"1\" class=\"dataframe\">\n",
              "  <thead>\n",
              "    <tr style=\"text-align: right;\">\n",
              "      <th></th>\n",
              "      <th>sentiment</th>\n",
              "      <th>review</th>\n",
              "      <th>sentiment_label</th>\n",
              "    </tr>\n",
              "  </thead>\n",
              "  <tbody>\n",
              "    <tr>\n",
              "      <th>0</th>\n",
              "      <td>Positive</td>\n",
              "      <td>coming border kill</td>\n",
              "      <td>3</td>\n",
              "    </tr>\n",
              "    <tr>\n",
              "      <th>1</th>\n",
              "      <td>Positive</td>\n",
              "      <td>getting borderland kill</td>\n",
              "      <td>3</td>\n",
              "    </tr>\n",
              "    <tr>\n",
              "      <th>2</th>\n",
              "      <td>Positive</td>\n",
              "      <td>coming borderland murder</td>\n",
              "      <td>3</td>\n",
              "    </tr>\n",
              "    <tr>\n",
              "      <th>3</th>\n",
              "      <td>Positive</td>\n",
              "      <td>getting borderland murder</td>\n",
              "      <td>3</td>\n",
              "    </tr>\n",
              "    <tr>\n",
              "      <th>4</th>\n",
              "      <td>Positive</td>\n",
              "      <td>getting borderland murder</td>\n",
              "      <td>3</td>\n",
              "    </tr>\n",
              "  </tbody>\n",
              "</table>\n",
              "</div>"
            ],
            "text/plain": [
              "  sentiment                     review  sentiment_label\n",
              "0  Positive         coming border kill                3\n",
              "1  Positive    getting borderland kill                3\n",
              "2  Positive   coming borderland murder                3\n",
              "3  Positive  getting borderland murder                3\n",
              "4  Positive  getting borderland murder                3"
            ]
          },
          "execution_count": 7,
          "metadata": {},
          "output_type": "execute_result"
        }
      ],
      "source": [
        "# print(data['review'].apply(type).value_counts())\n",
        "data = data[data['review'].apply(lambda x: isinstance(x, str))]\n",
        "print(data['review'].apply(type).value_counts())\n",
        "\n",
        "data.review = data['review'].apply(preprocess)\n",
        "data.head()"
      ]
    },
    {
      "cell_type": "code",
      "execution_count": null,
      "metadata": {
        "id": "alNSOzoSi-De",
        "outputId": "6c1d99a1-cc8c-437f-87ec-1f830d9b4d83"
      },
      "outputs": [
        {
          "data": {
            "text/html": [
              "<div>\n",
              "<style scoped>\n",
              "    .dataframe tbody tr th:only-of-type {\n",
              "        vertical-align: middle;\n",
              "    }\n",
              "\n",
              "    .dataframe tbody tr th {\n",
              "        vertical-align: top;\n",
              "    }\n",
              "\n",
              "    .dataframe thead th {\n",
              "        text-align: right;\n",
              "    }\n",
              "</style>\n",
              "<table border=\"1\" class=\"dataframe\">\n",
              "  <thead>\n",
              "    <tr style=\"text-align: right;\">\n",
              "      <th></th>\n",
              "      <th>sentiment</th>\n",
              "      <th>review</th>\n",
              "      <th>sentiment_label</th>\n",
              "    </tr>\n",
              "  </thead>\n",
              "  <tbody>\n",
              "    <tr>\n",
              "      <th>50676</th>\n",
              "      <td>Positive</td>\n",
              "      <td>great effort finlay lyttle aaron edward bring ...</td>\n",
              "      <td>3</td>\n",
              "    </tr>\n",
              "    <tr>\n",
              "      <th>50677</th>\n",
              "      <td>Positive</td>\n",
              "      <td>great effort finlay lyon aaron edward got nat5...</td>\n",
              "      <td>3</td>\n",
              "    </tr>\n",
              "    <tr>\n",
              "      <th>50678</th>\n",
              "      <td>Positive</td>\n",
              "      <td>great start finlay lyttle jacob edward getting...</td>\n",
              "      <td>3</td>\n",
              "    </tr>\n",
              "    <tr>\n",
              "      <th>50679</th>\n",
              "      <td>Positive</td>\n",
              "      <td>great effort aside finlay lyttle aaron edward ...</td>\n",
              "      <td>3</td>\n",
              "    </tr>\n",
              "    <tr>\n",
              "      <th>50680</th>\n",
              "      <td>Positive</td>\n",
              "      <td>great effort finlay lyttle aaron edward gettin...</td>\n",
              "      <td>3</td>\n",
              "    </tr>\n",
              "  </tbody>\n",
              "</table>\n",
              "</div>"
            ],
            "text/plain": [
              "      sentiment                                             review  \\\n",
              "50676  Positive  great effort finlay lyttle aaron edward bring ...   \n",
              "50677  Positive  great effort finlay lyon aaron edward got nat5...   \n",
              "50678  Positive  great start finlay lyttle jacob edward getting...   \n",
              "50679  Positive  great effort aside finlay lyttle aaron edward ...   \n",
              "50680  Positive  great effort finlay lyttle aaron edward gettin...   \n",
              "\n",
              "       sentiment_label  \n",
              "50676                3  \n",
              "50677                3  \n",
              "50678                3  \n",
              "50679                3  \n",
              "50680                3  "
            ]
          },
          "execution_count": 8,
          "metadata": {},
          "output_type": "execute_result"
        }
      ],
      "source": [
        "data.to_csv('dataset/twitter_training_processed.csv')\n",
        "from random import randint\n",
        "x = randint(0, data.shape[0])\n",
        "data.iloc[x:x+5, :]"
      ]
    },
    {
      "cell_type": "markdown",
      "metadata": {
        "id": "fisiej-Ui-De"
      },
      "source": [
        "## Modelling"
      ]
    },
    {
      "cell_type": "code",
      "execution_count": 9,
      "metadata": {
        "colab": {
          "base_uri": "https://localhost:8080/",
          "height": 36
        },
        "id": "YT_D-XK4i-De",
        "outputId": "c62f5994-7280-45ee-d476-f6d376b1504a"
      },
      "outputs": [
        {
          "data": {
            "text/plain": [
              "'cpu'"
            ]
          },
          "execution_count": 9,
          "metadata": {},
          "output_type": "execute_result"
        }
      ],
      "source": [
        "device = (\n",
        "    \"cuda\"\n",
        "    if torch.cuda.is_available()\n",
        "    else \"mps\"\n",
        "    if torch.backends.mps.is_available()\n",
        "    else \"cpu\"\n",
        ")\n",
        "device"
      ]
    },
    {
      "cell_type": "code",
      "execution_count": 11,
      "metadata": {
        "colab": {
          "base_uri": "https://localhost:8080/"
        },
        "id": "IAwAZ2lMi-Df",
        "outputId": "f62f0a8c-61aa-4d6a-8cde-4063869427ec"
      },
      "outputs": [
        {
          "name": "stdout",
          "output_type": "stream",
          "text": [
            "review\n",
            "<class 'str'>    72371\n",
            "Name: count, dtype: int64\n"
          ]
        }
      ],
      "source": [
        "data = pd.read_csv('twitter_training_processed.csv')\n",
        "data = data[data['review'].apply(lambda x: isinstance(x, str))]\n",
        "print(data['review'].apply(type).value_counts())"
      ]
    },
    {
      "cell_type": "code",
      "execution_count": 12,
      "metadata": {
        "colab": {
          "base_uri": "https://localhost:8080/"
        },
        "id": "XZj4zwlri-Df",
        "outputId": "eb6f69dd-1897-41a4-9682-eac33caca303"
      },
      "outputs": [
        {
          "name": "stdout",
          "output_type": "stream",
          "text": [
            "37810\n"
          ]
        }
      ],
      "source": [
        "def get_vocab(reviews):\n",
        "    vocab = {'__UNK__':0}\n",
        "    for review in reviews:\n",
        "        for word in review.split():\n",
        "            if word not in vocab:\n",
        "                vocab[word] = len(vocab)\n",
        "    return vocab\n",
        "\n",
        "vocab = get_vocab(data.review)\n",
        "print(len(vocab))"
      ]
    },
    {
      "cell_type": "code",
      "execution_count": 13,
      "metadata": {
        "colab": {
          "base_uri": "https://localhost:8080/"
        },
        "id": "KDCcEYR0i-Df",
        "outputId": "19bd2886-1112-4682-a817-99157f48eacc"
      },
      "outputs": [
        {
          "name": "stdout",
          "output_type": "stream",
          "text": [
            "Max Review(Input) size : 814\n"
          ]
        }
      ],
      "source": [
        "def tensor_len(text, unk_token='__UNK__'):\n",
        "    tensor = []\n",
        "    for word in text.split():\n",
        "        if word not in vocab:\n",
        "            word = unk_token\n",
        "        tensor.append(vocab[word])\n",
        "    return len(tensor)\n",
        "max_tensor = len(max(data['review'], key=tensor_len))\n",
        "print(\"Max Review(Input) size :\", max_tensor)\n",
        "\n",
        "def text_to_tensor(text, unk_token='__UNK__'):\n",
        "    tensor = [0] * max_tensor\n",
        "    for e, word in enumerate(text.split()):\n",
        "        if word not in vocab:\n",
        "            word = unk_token\n",
        "        tensor[e] = vocab[word]\n",
        "    return tensor\n",
        "\n",
        "X = list(data['review'].apply(text_to_tensor))\n",
        "y = list(data['sentiment_label'])"
      ]
    },
    {
      "cell_type": "markdown",
      "metadata": {
        "id": "gFuznxUPi-Dg"
      },
      "source": [
        "## Pytorch Implementation"
      ]
    },
    {
      "cell_type": "code",
      "execution_count": 8,
      "metadata": {
        "id": "CQNJgzrZi-Dg"
      },
      "outputs": [],
      "source": [
        "X_train, X_test, y_train, y_test = train_test_split(X, y, test_size=0.2)\n",
        "X_train = torch.as_tensor(X_train).to(device)\n",
        "y_train = torch.as_tensor(y_train).to(device)\n",
        "\n",
        "train_data = TensorDataset(X_train, y_train)\n",
        "train_loader = DataLoader(train_data, batch_size=32, shuffle=True)"
      ]
    },
    {
      "cell_type": "code",
      "execution_count": 9,
      "metadata": {
        "id": "FA776rL7i-Dg"
      },
      "outputs": [],
      "source": [
        "X_test = torch.as_tensor(X_test).to(device)\n",
        "y_test = torch.as_tensor(y_test).to(device)\n",
        "\n",
        "test_data = TensorDataset(X_test, y_test)\n",
        "test_loader = DataLoader(test_data, batch_size=32, shuffle=True)"
      ]
    },
    {
      "cell_type": "code",
      "execution_count": 10,
      "metadata": {
        "colab": {
          "base_uri": "https://localhost:8080/"
        },
        "id": "ao6adoLQi-Dg",
        "outputId": "e2f34658-8d51-4034-a0af-84bd5666aa0c"
      },
      "outputs": [
        {
          "name": "stdout",
          "output_type": "stream",
          "text": [
            "X_train shape: torch.Size([57896, 814])\n",
            "y_train shape: torch.Size([57896])\n",
            "train_data length:  57896\n",
            "\n",
            "X_test shape: torch.Size([14475, 814])\n",
            "y_test shape: torch.Size([14475])\n",
            "test_data length:  14475\n"
          ]
        }
      ],
      "source": [
        "print(\"X_train shape:\", X_train.shape)\n",
        "print(\"y_train shape:\", y_train.shape)\n",
        "print(\"train_data length: \", len(train_data))\n",
        "\n",
        "print(\"\\nX_test shape:\", X_test.shape)\n",
        "print(\"y_test shape:\", y_test.shape)\n",
        "print(\"test_data length: \", len(test_data))"
      ]
    },
    {
      "cell_type": "code",
      "execution_count": 11,
      "metadata": {
        "id": "d9e1W_g9i-Dh"
      },
      "outputs": [],
      "source": [
        "def torch_train(model, optimizer, criterion, epochs):\n",
        "    model.to(device)\n",
        "    train_loss=[]; train_accuracy=[]\n",
        "\n",
        "    for epoch in range(epochs):\n",
        "        model.train()\n",
        "        total_correct=0;total_samples=0\n",
        "        for inputs, labels in train_loader:\n",
        "            inputs, labels = inputs.to(device), labels.to(device)\n",
        "\n",
        "            optimizer.zero_grad()\n",
        "            outputs = model(inputs)\n",
        "            loss = criterion(outputs, labels)\n",
        "            loss.backward()\n",
        "            optimizer.step()\n",
        "\n",
        "            _, predicted = torch.max(outputs, 1)\n",
        "            total_correct += (predicted == labels).sum().item()\n",
        "            total_samples += labels.size(0)\n",
        "\n",
        "        accuracy = total_correct/total_samples\n",
        "        train_loss.append(loss.item())\n",
        "        train_accuracy.append(accuracy*100)\n",
        "\n",
        "        print(f\"Epoch {epoch+1}/{epochs}:- Loss: {loss.item()}, Accuracy: {accuracy*100:.2f}\")"
      ]
    },
    {
      "cell_type": "code",
      "execution_count": 12,
      "metadata": {
        "id": "WPrnJePni-Dh"
      },
      "outputs": [],
      "source": [
        "def torch_test(model, criterion):\n",
        "    total_correct=0; total_samples=0\n",
        "    for inputs, labels in test_loader:\n",
        "        outputs = model(inputs).to(device)\n",
        "        loss = criterion(outputs, labels)\n",
        "\n",
        "        _, predicted = torch.max(outputs, 1)\n",
        "        total_correct += (predicted == labels).sum().item()\n",
        "        total_samples += labels.size(0)\n",
        "\n",
        "    accuracy = total_correct/total_samples\n",
        "    print(f\"Loss: {loss.item()}, Accuracy: {accuracy*100:.2f}\")"
      ]
    },
    {
      "cell_type": "code",
      "execution_count": 13,
      "metadata": {
        "id": "LRHL5dy-i-Dh"
      },
      "outputs": [],
      "source": [
        "vocab_size = len(vocab) + 1\n",
        "embed_size = 50\n",
        "num_classes = data['sentiment'].nunique()"
      ]
    },
    {
      "cell_type": "code",
      "execution_count": 14,
      "metadata": {
        "id": "a21M5072i-Dh"
      },
      "outputs": [],
      "source": [
        "class FCtorch(torch.nn.Module):\n",
        "    def __init__(self, vocab_size, embed_size, num_classes):\n",
        "        super(FCtorch, self).__init__()\n",
        "        self.embedding = torch.nn.Embedding(vocab_size, embed_size)\n",
        "        self.linear = torch.nn.Linear(embed_size, num_classes)\n",
        "\n",
        "    def forward(self, x):\n",
        "        embedded = self.embedding(x)\n",
        "        pooled = torch.mean(embedded, dim=1)\n",
        "        output = self.linear(pooled)\n",
        "        return output"
      ]
    },
    {
      "cell_type": "code",
      "execution_count": 15,
      "metadata": {
        "colab": {
          "base_uri": "https://localhost:8080/"
        },
        "id": "PTMvHg5mi-Dh",
        "outputId": "6282741e-bbb8-4e51-9346-4d35f0e2cf12"
      },
      "outputs": [
        {
          "name": "stdout",
          "output_type": "stream",
          "text": [
            "Epoch 1/10:- Loss: 0.9096807241439819, Accuracy: 40.71\n",
            "Epoch 2/10:- Loss: 1.1223187446594238, Accuracy: 63.66\n",
            "Epoch 3/10:- Loss: 0.46331140398979187, Accuracy: 73.60\n",
            "Epoch 4/10:- Loss: 0.5243700742721558, Accuracy: 79.74\n",
            "Epoch 5/10:- Loss: 0.040046326816082, Accuracy: 83.54\n",
            "Epoch 6/10:- Loss: 0.15989607572555542, Accuracy: 85.72\n",
            "Epoch 7/10:- Loss: 0.2364106923341751, Accuracy: 87.66\n",
            "Epoch 8/10:- Loss: 0.10080787539482117, Accuracy: 88.54\n",
            "Epoch 9/10:- Loss: 0.24252696335315704, Accuracy: 89.47\n",
            "Epoch 10/10:- Loss: 0.7395386099815369, Accuracy: 90.04\n"
          ]
        }
      ],
      "source": [
        "model = FCtorch(vocab_size, embed_size, num_classes).to(device)\n",
        "optimizer = torch.optim.Adam(model.parameters(), lr=0.01)\n",
        "criterion = torch.nn.CrossEntropyLoss()\n",
        "\n",
        "torch_train(model, optimizer, criterion, 10)"
      ]
    },
    {
      "cell_type": "code",
      "execution_count": 16,
      "metadata": {
        "colab": {
          "base_uri": "https://localhost:8080/"
        },
        "id": "GiGBCGsGi-Di",
        "outputId": "7ad3f594-1602-4f6b-afd1-a4fbb7e73bec"
      },
      "outputs": [
        {
          "name": "stdout",
          "output_type": "stream",
          "text": [
            "Loss: 0.28555890917778015, Accuracy: 84.42\n"
          ]
        }
      ],
      "source": [
        "torch_test(model, criterion)"
      ]
    },
    {
      "cell_type": "code",
      "execution_count": 17,
      "metadata": {
        "id": "H4K8f_uwi-Di"
      },
      "outputs": [],
      "source": [
        "class RNNTorch(torch.nn.Module):\n",
        "    def __init__(self, vocab_size, embed_size, num_classes, hidden_size, num_layers, pretrain_emb_mat=None):\n",
        "        super(RNNTorch, self).__init__()\n",
        "        # self.embedding = torch.nn.Embedding.from_pretrained(pretrain_emb_mat, freeze=True)\n",
        "        self.embedding = torch.nn.Embedding(vocab_size, embed_size)\n",
        "\n",
        "        self.rnn = torch.nn.RNN(embed_size, hidden_size, num_layers, batch_first=True, bidirectional=True)\n",
        "        # self.dropout = torch.nn.Dropout(p=0.1)\n",
        "\n",
        "        self.linear = torch.nn.Sequential(\n",
        "            torch.nn.Linear(hidden_size*2, hidden_size),\n",
        "            torch.nn.ReLU(),\n",
        "            torch.nn.Linear(hidden_size, num_classes)\n",
        "        )\n",
        "\n",
        "    def forward(self, x):\n",
        "        embedded = self.embedding(x)\n",
        "        rnn_out,_ = self.rnn(embedded)\n",
        "        # rnn_out = self.dropout(rnn_out)\n",
        "        last_hidden = rnn_out[:,1]\n",
        "        out = self.linear(last_hidden)\n",
        "        return out"
      ]
    },
    {
      "cell_type": "code",
      "execution_count": 18,
      "metadata": {
        "colab": {
          "base_uri": "https://localhost:8080/"
        },
        "id": "1_zrHv3Oi-Di",
        "outputId": "64b8e5fe-57fd-478d-e8fa-fc3dc1941cd7"
      },
      "outputs": [
        {
          "name": "stdout",
          "output_type": "stream",
          "text": [
            "Epoch 1/10:- Loss: 1.0208466053009033, Accuracy: 43.61\n",
            "Epoch 2/10:- Loss: 0.7339982390403748, Accuracy: 58.10\n",
            "Epoch 3/10:- Loss: 0.9047394394874573, Accuracy: 68.84\n",
            "Epoch 4/10:- Loss: 1.3890459537506104, Accuracy: 73.44\n",
            "Epoch 5/10:- Loss: 0.8136258125305176, Accuracy: 80.12\n",
            "Epoch 6/10:- Loss: 0.3955254554748535, Accuracy: 84.32\n",
            "Epoch 7/10:- Loss: 0.04416411370038986, Accuracy: 87.48\n",
            "Epoch 8/10:- Loss: 0.14071328938007355, Accuracy: 89.18\n",
            "Epoch 9/10:- Loss: 0.4298365116119385, Accuracy: 89.99\n",
            "Epoch 10/10:- Loss: 1.1082686185836792, Accuracy: 91.91\n"
          ]
        }
      ],
      "source": [
        "rnn_model = RNNTorch(vocab_size, embed_size, num_classes, 128, 3)\n",
        "optimizer = torch.optim.Adam(rnn_model.parameters(), lr=0.001)\n",
        "criterion = torch.nn.CrossEntropyLoss()\n",
        "\n",
        "torch_train(rnn_model, optimizer, criterion, 10)"
      ]
    },
    {
      "cell_type": "code",
      "execution_count": 19,
      "metadata": {
        "colab": {
          "base_uri": "https://localhost:8080/"
        },
        "id": "6NS0agDli-Di",
        "outputId": "c6189331-1068-490c-9cb9-82f2dbef3125"
      },
      "outputs": [
        {
          "name": "stdout",
          "output_type": "stream",
          "text": [
            "Loss: 0.772495448589325, Accuracy: 80.37\n"
          ]
        }
      ],
      "source": [
        "torch_test(rnn_model, criterion)"
      ]
    },
    {
      "cell_type": "code",
      "execution_count": 33,
      "metadata": {
        "id": "CXxJU3a-i-Di"
      },
      "outputs": [],
      "source": [
        "class LSTMTorch(torch.nn.Module):\n",
        "    def __init__(self, vocab_size, embed_size, num_classes, hidden_size, num_layers):\n",
        "        super(LSTMTorch, self).__init__()\n",
        "        self.embedding = torch.nn.Embedding(vocab_size, embed_size)\n",
        "        self.lstm = torch.nn.LSTM(embed_size, hidden_size, num_layers, batch_first=True, bidirectional=True)\n",
        "        self.linear = torch.nn.Sequential(\n",
        "            torch.nn.Linear(hidden_size*2, hidden_size),\n",
        "            torch.nn.ReLU(),\n",
        "            torch.nn.Linear(hidden_size, num_classes)\n",
        "        )\n",
        "\n",
        "    def forward(self, x):\n",
        "        embedded = self.embedding(x)\n",
        "        lstm_out,_ = self.lstm(embedded)\n",
        "        out = self.linear(lstm_out[:,1])\n",
        "        return out"
      ]
    },
    {
      "cell_type": "code",
      "execution_count": 34,
      "metadata": {
        "colab": {
          "base_uri": "https://localhost:8080/",
          "height": 400
        },
        "id": "wks3qRzbi-Di",
        "outputId": "38f94125-8efb-402a-ed6b-88942cb8c959"
      },
      "outputs": [
        {
          "name": "stdout",
          "output_type": "stream",
          "text": [
            "Epoch 1/10:- Loss: 0.7666432857513428, Accuracy: 51.74\n",
            "Epoch 2/10:- Loss: 0.553053617477417, Accuracy: 71.75\n",
            "Epoch 3/10:- Loss: 0.38565436005592346, Accuracy: 84.73\n",
            "Epoch 4/10:- Loss: 0.19708217680454254, Accuracy: 91.76\n",
            "Epoch 5/10:- Loss: 0.01698257587850094, Accuracy: 94.80\n"
          ]
        },
        {
          "ename": "KeyboardInterrupt",
          "evalue": "",
          "output_type": "error",
          "traceback": [
            "\u001b[0;31m---------------------------------------------------------------------------\u001b[0m",
            "\u001b[0;31mKeyboardInterrupt\u001b[0m                         Traceback (most recent call last)",
            "\u001b[0;32m<ipython-input-34-8dd49fa8eea7>\u001b[0m in \u001b[0;36m<cell line: 5>\u001b[0;34m()\u001b[0m\n\u001b[1;32m      3\u001b[0m \u001b[0mcriterion\u001b[0m \u001b[0;34m=\u001b[0m \u001b[0mtorch\u001b[0m\u001b[0;34m.\u001b[0m\u001b[0mnn\u001b[0m\u001b[0;34m.\u001b[0m\u001b[0mCrossEntropyLoss\u001b[0m\u001b[0;34m(\u001b[0m\u001b[0;34m)\u001b[0m\u001b[0;34m\u001b[0m\u001b[0;34m\u001b[0m\u001b[0m\n\u001b[1;32m      4\u001b[0m \u001b[0;34m\u001b[0m\u001b[0m\n\u001b[0;32m----> 5\u001b[0;31m \u001b[0mtorch_train\u001b[0m\u001b[0;34m(\u001b[0m\u001b[0mlstm_model\u001b[0m\u001b[0;34m,\u001b[0m \u001b[0moptimizer\u001b[0m\u001b[0;34m,\u001b[0m \u001b[0mcriterion\u001b[0m\u001b[0;34m,\u001b[0m \u001b[0;36m10\u001b[0m\u001b[0;34m)\u001b[0m\u001b[0;34m\u001b[0m\u001b[0;34m\u001b[0m\u001b[0m\n\u001b[0m",
            "\u001b[0;32m<ipython-input-11-548bba662692>\u001b[0m in \u001b[0;36mtorch_train\u001b[0;34m(model, optimizer, criterion, epochs)\u001b[0m\n\u001b[1;32m     16\u001b[0m \u001b[0;34m\u001b[0m\u001b[0m\n\u001b[1;32m     17\u001b[0m             \u001b[0m_\u001b[0m\u001b[0;34m,\u001b[0m \u001b[0mpredicted\u001b[0m \u001b[0;34m=\u001b[0m \u001b[0mtorch\u001b[0m\u001b[0;34m.\u001b[0m\u001b[0mmax\u001b[0m\u001b[0;34m(\u001b[0m\u001b[0moutputs\u001b[0m\u001b[0;34m,\u001b[0m \u001b[0;36m1\u001b[0m\u001b[0;34m)\u001b[0m\u001b[0;34m\u001b[0m\u001b[0;34m\u001b[0m\u001b[0m\n\u001b[0;32m---> 18\u001b[0;31m             \u001b[0mtotal_correct\u001b[0m \u001b[0;34m+=\u001b[0m \u001b[0;34m(\u001b[0m\u001b[0mpredicted\u001b[0m \u001b[0;34m==\u001b[0m \u001b[0mlabels\u001b[0m\u001b[0;34m)\u001b[0m\u001b[0;34m.\u001b[0m\u001b[0msum\u001b[0m\u001b[0;34m(\u001b[0m\u001b[0;34m)\u001b[0m\u001b[0;34m.\u001b[0m\u001b[0mitem\u001b[0m\u001b[0;34m(\u001b[0m\u001b[0;34m)\u001b[0m\u001b[0;34m\u001b[0m\u001b[0;34m\u001b[0m\u001b[0m\n\u001b[0m\u001b[1;32m     19\u001b[0m             \u001b[0mtotal_samples\u001b[0m \u001b[0;34m+=\u001b[0m \u001b[0mlabels\u001b[0m\u001b[0;34m.\u001b[0m\u001b[0msize\u001b[0m\u001b[0;34m(\u001b[0m\u001b[0;36m0\u001b[0m\u001b[0;34m)\u001b[0m\u001b[0;34m\u001b[0m\u001b[0;34m\u001b[0m\u001b[0m\n\u001b[1;32m     20\u001b[0m \u001b[0;34m\u001b[0m\u001b[0m\n",
            "\u001b[0;31mKeyboardInterrupt\u001b[0m: "
          ]
        }
      ],
      "source": [
        "lstm_model = LSTMTorch(vocab_size, embed_size, num_classes, 128, 3)\n",
        "optimizer = torch.optim.Adam(lstm_model.parameters())\n",
        "criterion = torch.nn.CrossEntropyLoss()\n",
        "\n",
        "torch_train(lstm_model, optimizer, criterion, 10)"
      ]
    },
    {
      "cell_type": "code",
      "execution_count": 35,
      "metadata": {
        "colab": {
          "base_uri": "https://localhost:8080/"
        },
        "id": "38h8ef3vi-Di",
        "outputId": "cd012728-8328-4987-e511-833288ea3b11"
      },
      "outputs": [
        {
          "name": "stdout",
          "output_type": "stream",
          "text": [
            "Loss: 0.8048198223114014, Accuracy: 85.20\n"
          ]
        }
      ],
      "source": [
        "torch_test(lstm_model, criterion)"
      ]
    },
    {
      "cell_type": "markdown",
      "metadata": {
        "id": "cW8yVbWei-Di"
      },
      "source": [
        "## TensorFlow Implementation"
      ]
    },
    {
      "cell_type": "code",
      "execution_count": 14,
      "metadata": {
        "id": "P3ef61Gri-Dj"
      },
      "outputs": [],
      "source": [
        "from tensorflow.keras.preprocessing.sequence import pad_sequences\n",
        "X_train, X_test, y_train, y_test = train_test_split(X, y, test_size=0.2)\n",
        "\n",
        "X_train = tf.convert_to_tensor(X_train)\n",
        "y_train = tf.convert_to_tensor(y_train)\n",
        "\n",
        "train_data = Dataset.from_tensor_slices((X_train, y_train))\n",
        "train_loader = train_data.shuffle(buffer_size=len(X_train)).batch(512)"
      ]
    },
    {
      "cell_type": "code",
      "execution_count": 15,
      "metadata": {
        "id": "S7R3bfsbi-Dj"
      },
      "outputs": [],
      "source": [
        "X_test = tf.convert_to_tensor(X_test)\n",
        "y_test = tf.convert_to_tensor(y_test)\n",
        "\n",
        "test_data = Dataset.from_tensor_slices((X_test, y_test))\n",
        "test_loader = test_data.batch(256)"
      ]
    },
    {
      "cell_type": "code",
      "execution_count": 16,
      "metadata": {
        "id": "V-pi_xSGi-Dj",
        "outputId": "cdb3a8a2-b63f-426a-c3be-3ab2995b572a"
      },
      "outputs": [
        {
          "name": "stdout",
          "output_type": "stream",
          "text": [
            "X_train shape: (57896, 814)\n",
            "y_train shape: (57896,)\n",
            "train_data length:  57896\n",
            "\n",
            "X_test shape: (14475, 814)\n",
            "y_test shape: (14475,)\n",
            "test_data length:  14475\n"
          ]
        }
      ],
      "source": [
        "print(\"X_train shape:\", X_train.shape)\n",
        "print(\"y_train shape:\", y_train.shape)\n",
        "print(\"train_data length: \", len(train_data))\n",
        "\n",
        "print(\"\\nX_test shape:\", X_test.shape)\n",
        "print(\"y_test shape:\", y_test.shape)\n",
        "print(\"test_data length: \", len(test_data))"
      ]
    },
    {
      "cell_type": "code",
      "execution_count": 17,
      "metadata": {
        "id": "GJctj3XIi-Dj"
      },
      "outputs": [],
      "source": [
        "def keras_train(model, optimizer, loss_fn, epochs):\n",
        "    train_loss = []; train_accuracy = []\n",
        "\n",
        "    for epoch in range(epochs):\n",
        "        total_samples = 0; total_correct = 0\n",
        "        epoch_loss=0\n",
        "\n",
        "        for inputs, labels in train_loader:\n",
        "            with tf.GradientTape() as tape:\n",
        "                outputs = model(inputs, training=True)\n",
        "                loss = loss_fn(labels, outputs)\n",
        "\n",
        "            gradients = tape.grad(loss, model.trainable_variables)\n",
        "            optimizer.apply_gradients(zip(gradients, model.trainable_variables))\n",
        "\n",
        "            predictions = tf.argmax(outputs, axis=1)\n",
        "            total_correct += tf.reduce_sum(tf.cast(predictions == labels, tf.float32)).numpy()\n",
        "            total_samples += labels.shape[0]\n",
        "            epoch_loss = loss.numpy()\n",
        "\n",
        "        accuracy = total_correct / total_samples\n",
        "        train_loss.append(epoch_loss)\n",
        "        train_accuracy.append(accuracy)\n",
        "\n",
        "        print(f\"Epoch {epoch+1}/{epochs}:- Loss: {epoch_loss / total_samples}, Accuracy: {accuracy * 100:.2f}\")"
      ]
    },
    {
      "cell_type": "code",
      "execution_count": 18,
      "metadata": {
        "id": "r5qvm0Kci-Dj"
      },
      "outputs": [],
      "source": [
        "def keras_test(model, loss_fn):\n",
        "    total_correct=0; total_samples=0\n",
        "    for inputs, labels in test_loader:\n",
        "        outputs = model(inputs)\n",
        "        loss = loss_fn(outputs, labels)\n",
        "\n",
        "        _, predicted = tf.max(outputs, 1)\n",
        "        total_correct += (predicted == labels).sum().item()\n",
        "        total_samples += labels.size(0)\n",
        "\n",
        "    accuracy = total_correct/total_samples\n",
        "    print(f\"Loss: {loss.item()}, Accuracy: {accuracy*100:.2f}\")"
      ]
    },
    {
      "cell_type": "code",
      "execution_count": 19,
      "metadata": {
        "id": "b9YKLCVXi-Dk"
      },
      "outputs": [],
      "source": [
        "vocab_size = len(vocab) + 1\n",
        "embed_size = 50\n",
        "num_classes = data['sentiment'].nunique()"
      ]
    },
    {
      "cell_type": "code",
      "execution_count": 20,
      "metadata": {
        "id": "InxTP4VKi-Dk"
      },
      "outputs": [],
      "source": [
        "class FCKeras(keras.Model):\n",
        "    def __init__(self, vocab_size, embed_size, num_classes):\n",
        "        super(FCKeras, self).__init__()\n",
        "        self.embedding = keras.layers.Embedding(vocab_size, embed_size)\n",
        "        self.linear = keras.layers.Dense(num_classes)\n",
        "\n",
        "    def call(self, x):\n",
        "        embedded = self.embedding(x)\n",
        "        pooled = tf.reduce_mean(embedded, axis=1)\n",
        "        output = self.linear(pooled)\n",
        "        return output"
      ]
    },
    {
      "cell_type": "code",
      "execution_count": null,
      "metadata": {
        "id": "qiA-a2gRi-Dk"
      },
      "outputs": [],
      "source": [
        "model = FCKeras(vocab_size, embed_size, num_classes)\n",
        "\n",
        "optimizer = tf.keras.optimizers.Adam(learning_rate=0.001)\n",
        "criterion = tf.keras.losses.BinaryCrossentropy()\n",
        "\n",
        "keras_train(model, optimizer, criterion, 10)"
      ]
    },
    {
      "cell_type": "code",
      "execution_count": null,
      "metadata": {
        "id": "jIB37fqTi-D3"
      },
      "outputs": [],
      "source": [
        "class RNNKeras(keras.Model):\n",
        "    def __init__(self, vocab_size, embed_size, num_classes, hidden_size, num_layers):\n",
        "        super(RNNKeras, self).__init__()\n",
        "        self.embedding = keras.layers.Embedding(vocab_size, embed_size)\n",
        "        self.rnn = keras.layers.SimpleRNN(hidden_size, return_sequences=False, return_state=False)\n",
        "        self.fc = keras.layers.Dense(num_classes)\n",
        "\n",
        "    def call(self, x):\n",
        "        embedded = self.embedding(x)\n",
        "        rnn_out = self.rnn(embedded)\n",
        "        out = self.fc(rnn_out)\n",
        "        return out"
      ]
    },
    {
      "cell_type": "code",
      "execution_count": null,
      "metadata": {
        "id": "9aCaZAiGi-D3",
        "outputId": "d361a6dd-f40a-4e87-c823-72c27b1cbb8a"
      },
      "outputs": [
        {
          "data": {
            "text/plain": [
              "(57896, 814)"
            ]
          },
          "execution_count": 30,
          "metadata": {},
          "output_type": "execute_result"
        }
      ],
      "source": [
        "X_train[0].shape"
      ]
    },
    {
      "cell_type": "code",
      "execution_count": 21,
      "metadata": {
        "id": "ticnXrFAi-D4",
        "outputId": "786d735e-c265-410c-d835-3824d8e84b8a"
      },
      "outputs": [
        {
          "data": {
            "text/html": [
              "<pre style=\"white-space:pre;overflow-x:auto;line-height:normal;font-family:Menlo,'DejaVu Sans Mono',consolas,'Courier New',monospace\"><span style=\"font-weight: bold\">Model: \"sequential\"</span>\n",
              "</pre>\n"
            ],
            "text/plain": [
              "\u001b[1mModel: \"sequential\"\u001b[0m\n"
            ]
          },
          "metadata": {},
          "output_type": "display_data"
        },
        {
          "data": {
            "text/html": [
              "<pre style=\"white-space:pre;overflow-x:auto;line-height:normal;font-family:Menlo,'DejaVu Sans Mono',consolas,'Courier New',monospace\">┏━━━━━━━━━━━━━━━━━━━━━━━━━━━━━━━━━┳━━━━━━━━━━━━━━━━━━━━━━━━┳━━━━━━━━━━━━━━━┓\n",
              "┃<span style=\"font-weight: bold\"> Layer (type)                    </span>┃<span style=\"font-weight: bold\"> Output Shape           </span>┃<span style=\"font-weight: bold\">       Param # </span>┃\n",
              "┡━━━━━━━━━━━━━━━━━━━━━━━━━━━━━━━━━╇━━━━━━━━━━━━━━━━━━━━━━━━╇━━━━━━━━━━━━━━━┩\n",
              "│ embedding (<span style=\"color: #0087ff; text-decoration-color: #0087ff\">Embedding</span>)           │ ?                      │   <span style=\"color: #00af00; text-decoration-color: #00af00\">0</span> (unbuilt) │\n",
              "├─────────────────────────────────┼────────────────────────┼───────────────┤\n",
              "│ bidirectional (<span style=\"color: #0087ff; text-decoration-color: #0087ff\">Bidirectional</span>)   │ ?                      │   <span style=\"color: #00af00; text-decoration-color: #00af00\">0</span> (unbuilt) │\n",
              "├─────────────────────────────────┼────────────────────────┼───────────────┤\n",
              "│ dense (<span style=\"color: #0087ff; text-decoration-color: #0087ff\">Dense</span>)                   │ ?                      │   <span style=\"color: #00af00; text-decoration-color: #00af00\">0</span> (unbuilt) │\n",
              "├─────────────────────────────────┼────────────────────────┼───────────────┤\n",
              "│ dense_1 (<span style=\"color: #0087ff; text-decoration-color: #0087ff\">Dense</span>)                 │ ?                      │   <span style=\"color: #00af00; text-decoration-color: #00af00\">0</span> (unbuilt) │\n",
              "└─────────────────────────────────┴────────────────────────┴───────────────┘\n",
              "</pre>\n"
            ],
            "text/plain": [
              "┏━━━━━━━━━━━━━━━━━━━━━━━━━━━━━━━━━┳━━━━━━━━━━━━━━━━━━━━━━━━┳━━━━━━━━━━━━━━━┓\n",
              "┃\u001b[1m \u001b[0m\u001b[1mLayer (type)                   \u001b[0m\u001b[1m \u001b[0m┃\u001b[1m \u001b[0m\u001b[1mOutput Shape          \u001b[0m\u001b[1m \u001b[0m┃\u001b[1m \u001b[0m\u001b[1m      Param #\u001b[0m\u001b[1m \u001b[0m┃\n",
              "┡━━━━━━━━━━━━━━━━━━━━━━━━━━━━━━━━━╇━━━━━━━━━━━━━━━━━━━━━━━━╇━━━━━━━━━━━━━━━┩\n",
              "│ embedding (\u001b[38;5;33mEmbedding\u001b[0m)           │ ?                      │   \u001b[38;5;34m0\u001b[0m (unbuilt) │\n",
              "├─────────────────────────────────┼────────────────────────┼───────────────┤\n",
              "│ bidirectional (\u001b[38;5;33mBidirectional\u001b[0m)   │ ?                      │   \u001b[38;5;34m0\u001b[0m (unbuilt) │\n",
              "├─────────────────────────────────┼────────────────────────┼───────────────┤\n",
              "│ dense (\u001b[38;5;33mDense\u001b[0m)                   │ ?                      │   \u001b[38;5;34m0\u001b[0m (unbuilt) │\n",
              "├─────────────────────────────────┼────────────────────────┼───────────────┤\n",
              "│ dense_1 (\u001b[38;5;33mDense\u001b[0m)                 │ ?                      │   \u001b[38;5;34m0\u001b[0m (unbuilt) │\n",
              "└─────────────────────────────────┴────────────────────────┴───────────────┘\n"
            ]
          },
          "metadata": {},
          "output_type": "display_data"
        },
        {
          "data": {
            "text/html": [
              "<pre style=\"white-space:pre;overflow-x:auto;line-height:normal;font-family:Menlo,'DejaVu Sans Mono',consolas,'Courier New',monospace\"><span style=\"font-weight: bold\"> Total params: </span><span style=\"color: #00af00; text-decoration-color: #00af00\">0</span> (0.00 B)\n",
              "</pre>\n"
            ],
            "text/plain": [
              "\u001b[1m Total params: \u001b[0m\u001b[38;5;34m0\u001b[0m (0.00 B)\n"
            ]
          },
          "metadata": {},
          "output_type": "display_data"
        },
        {
          "data": {
            "text/html": [
              "<pre style=\"white-space:pre;overflow-x:auto;line-height:normal;font-family:Menlo,'DejaVu Sans Mono',consolas,'Courier New',monospace\"><span style=\"font-weight: bold\"> Trainable params: </span><span style=\"color: #00af00; text-decoration-color: #00af00\">0</span> (0.00 B)\n",
              "</pre>\n"
            ],
            "text/plain": [
              "\u001b[1m Trainable params: \u001b[0m\u001b[38;5;34m0\u001b[0m (0.00 B)\n"
            ]
          },
          "metadata": {},
          "output_type": "display_data"
        },
        {
          "data": {
            "text/html": [
              "<pre style=\"white-space:pre;overflow-x:auto;line-height:normal;font-family:Menlo,'DejaVu Sans Mono',consolas,'Courier New',monospace\"><span style=\"font-weight: bold\"> Non-trainable params: </span><span style=\"color: #00af00; text-decoration-color: #00af00\">0</span> (0.00 B)\n",
              "</pre>\n"
            ],
            "text/plain": [
              "\u001b[1m Non-trainable params: \u001b[0m\u001b[38;5;34m0\u001b[0m (0.00 B)\n"
            ]
          },
          "metadata": {},
          "output_type": "display_data"
        }
      ],
      "source": [
        "from tensorflow.keras.models import Model, Sequential\n",
        "from tensorflow.keras.layers import GRU, Embedding, Dense, Bidirectional\n",
        "\n",
        "hidden_size = 128\n",
        "\n",
        "model = Sequential([\n",
        "    Embedding(vocab_size, embed_size),\n",
        "    Bidirectional(GRU(hidden_size)),\n",
        "    Dense(num_classes*2, activation = 'relu'),\n",
        "    Dense(num_classes, activation='softmax')\n",
        "    ])\n",
        "model.compile(optimizer='adam', loss='sparse_categorical_crossentropy', metrics=['accuracy'])\n",
        "model.summary()"
      ]
    },
    {
      "cell_type": "code",
      "execution_count": 22,
      "metadata": {
        "id": "aDCyWQJti-D4",
        "outputId": "d7d58589-6bcd-4235-a5cb-c47eec954f70"
      },
      "outputs": [
        {
          "name": "stdout",
          "output_type": "stream",
          "text": [
            "Epoch 1/5\n"
          ]
        },
        {
          "name": "stdout",
          "output_type": "stream",
          "text": [
            "\u001b[1m 13/114\u001b[0m \u001b[32m━━\u001b[0m\u001b[37m━━━━━━━━━━━━━━━━━━\u001b[0m \u001b[1m9:17\u001b[0m 6s/step - accuracy: 0.2784 - loss: 4.0771"
          ]
        }
      ],
      "source": [
        "model.fit(train_loader,\n",
        "          validation_data=test_loader,\n",
        "          epochs=5)"
      ]
    },
    {
      "cell_type": "code",
      "execution_count": null,
      "metadata": {
        "id": "nERVF2vSi-D5"
      },
      "outputs": [],
      "source": []
    }
  ],
  "metadata": {
    "accelerator": "GPU",
    "colab": {
      "collapsed_sections": [
        "r-REMstbi-Da"
      ],
      "gpuType": "T4",
      "provenance": []
    },
    "kernelspec": {
      "display_name": "Python 3",
      "name": "python3"
    },
    "language_info": {
      "codemirror_mode": {
        "name": "ipython",
        "version": 3
      },
      "file_extension": ".py",
      "mimetype": "text/x-python",
      "name": "python",
      "nbconvert_exporter": "python",
      "pygments_lexer": "ipython3",
      "version": "3.11.4"
    }
  },
  "nbformat": 4,
  "nbformat_minor": 0
}
